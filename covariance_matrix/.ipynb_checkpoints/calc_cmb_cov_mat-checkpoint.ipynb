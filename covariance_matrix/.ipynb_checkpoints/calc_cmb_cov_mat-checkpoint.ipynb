{
 "cells": [
  {
   "cell_type": "code",
   "execution_count": 11,
   "id": "88a310bb-5580-4f73-a23b-0723d296effb",
   "metadata": {},
   "outputs": [],
   "source": [
    "# cmb_map3に対応した 共分散行列の計算をする\n",
    "using NPZ\n",
    "\n",
    "cl_2048 = npzread(\"../make_map/cmb_map_make/theorical_Cell/cl_th_nside_2048.npz\")\n",
    "cl_scal = cl_2048[\"cls_th\"]\n",
    "cl_lens = cl_2048[\"clL_th\"]\n",
    "cl_tens = cl_2048[\"clt_th\"];"
   ]
  },
  {
   "cell_type": "code",
   "execution_count": 13,
   "id": "17ca0103-fa12-4eeb-9558-18a30e2d3d77",
   "metadata": {},
   "outputs": [],
   "source": [
    "cl_ee_scal_2048 = cl_scal[:, 2] + cl_lens[:, 2]\n",
    "cl_ee_tens_2048 = cl_tens[:, 2]\n",
    "\n",
    "cl_bb_scal_2048 = cl_scal[:, 3] + cl_lens[:, 3]\n",
    "cl_bb_tens_2048 = cl_tens[:, 3];"
   ]
  },
  {
   "cell_type": "code",
   "execution_count": 24,
   "id": "7d232fed-d7a8-416e-983a-27e20ffa402b",
   "metadata": {},
   "outputs": [],
   "source": [
    "nside = 4\n",
    "cl_ee_scal_4 = cl_scal[1:2nside, 2] + cl_lens[1:2nside, 2]\n",
    "cl_bb_scal_4 = cl_scal[1:2nside, 3] + cl_lens[1:2nside, 3]\n",
    "\n",
    "cl_ee_tens_4 = cl_tens[1:2nside, 2]\n",
    "cl_bb_tens_4 = cl_tens[1:2nside, 3];"
   ]
  },
  {
   "cell_type": "code",
   "execution_count": 27,
   "id": "ec0d177b-31ae-4018-a02f-3c4baa03154c",
   "metadata": {},
   "outputs": [
    {
     "ename": "LoadError",
     "evalue": "CFITSIO has encountered an error while processing ../../mask_p06_Nside4.v2.fits. Error code 104: could not open the named file\nDetailed error message follows: \nfailed to find or open the following file: (ffopen)\n../../mask_p06_Nside4.v2.fits\n",
     "output_type": "error",
     "traceback": [
      "CFITSIO has encountered an error while processing ../../mask_p06_Nside4.v2.fits. Error code 104: could not open the named file\nDetailed error message follows: \nfailed to find or open the following file: (ffopen)\n../../mask_p06_Nside4.v2.fits\n",
      "",
      "Stacktrace:",
      " [1] fits_assert_ok",
      "   @ ~/.julia/packages/CFITSIO/zfTMn/src/CFITSIO.jl:223 [inlined]",
      " [2] fits_open_table(filename::String, mode::Int64)",
      "   @ CFITSIO ~/.julia/packages/CFITSIO/zfTMn/src/CFITSIO.jl:378",
      " [3] fits_open_table",
      "   @ ~/.julia/packages/CFITSIO/zfTMn/src/CFITSIO.jl:367 [inlined]",
      " [4] readMapFromFITS",
      "   @ ~/.julia/packages/Healpix/QiFKK/src/map_io.jl:69 [inlined]",
      " [5] masked_calc_Yslm(nside::Int64, s::Int64)",
      "   @ Main ~/Library/Mobile Documents/com~apple~CloudDocs/study_fg_rm/program/Deltamap_test/julia_delta-map/src/function/smoothing_masked_cov_mat.jl:23",
      " [6] masked_calc_WX(nside::Int64)",
      "   @ Main ~/Library/Mobile Documents/com~apple~CloudDocs/study_fg_rm/program/Deltamap_test/julia_delta-map/src/function/smoothing_masked_cov_mat.jl:63",
      " [7] masked_calc_cmb_cov_mat(clEE::Vector{Float64}, clBB::Vector{Float64}, nside::Int64)",
      "   @ Main ~/Library/Mobile Documents/com~apple~CloudDocs/study_fg_rm/program/Deltamap_test/julia_delta-map/src/function/smoothing_masked_cov_mat.jl:202",
      " [8] top-level scope",
      "   @ In[27]:3"
     ]
    }
   ],
   "source": [
    "# with only smoothin 先smoothingで次元のミスをなくす\n",
    "include(\"../src/function/smoothing_masked_cov_mat.jl\")\n",
    "masked_calc_cmb_cov_mat(cl_ee_scal_4, cl_bb_scal_4, nside)\n",
    "masked_calc_cmb_cov_mat(cl_ee_tens_4, cl_bb_tens_4, nside)"
   ]
  },
  {
   "cell_type": "code",
   "execution_count": 2,
   "id": "434aa502-de4d-454e-a04d-ae1ac9ddbba1",
   "metadata": {},
   "outputs": [],
   "source": [
    "# without mask and smoothing\n",
    "\n"
   ]
  }
 ],
 "metadata": {
  "kernelspec": {
   "display_name": "Julia 1.10.4",
   "language": "julia",
   "name": "julia-1.10"
  },
  "language_info": {
   "file_extension": ".jl",
   "mimetype": "application/julia",
   "name": "julia",
   "version": "1.10.4"
  }
 },
 "nbformat": 4,
 "nbformat_minor": 5
}
