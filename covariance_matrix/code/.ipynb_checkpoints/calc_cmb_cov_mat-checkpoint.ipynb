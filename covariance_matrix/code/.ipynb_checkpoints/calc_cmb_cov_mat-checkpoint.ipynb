{
 "cells": [
  {
   "cell_type": "code",
   "execution_count": 1,
   "id": "88a310bb-5580-4f73-a23b-0723d296effb",
   "metadata": {},
   "outputs": [],
   "source": [
    "# cmb_map3に対応した 共分散行列の計算をする\n",
    "using NPZ\n",
    "\n",
    "cl_2048 = npzread(\"../../make_map/cmb_map_make/theorical_Cell/cl_th_nside_2048.npz\")\n",
    "cl_scal = cl_2048[\"cls_th\"]\n",
    "cl_lens = cl_2048[\"clL_th\"]\n",
    "cl_tens = cl_2048[\"clt_th\"];"
   ]
  },
  {
   "cell_type": "code",
   "execution_count": 2,
   "id": "17ca0103-fa12-4eeb-9558-18a30e2d3d77",
   "metadata": {},
   "outputs": [],
   "source": [
    "cl_ee_scal_2048 = cl_scal[:, 2] + cl_lens[:, 2]\n",
    "cl_ee_tens_2048 = cl_tens[:, 2]\n",
    "\n",
    "cl_bb_scal_2048 = cl_scal[:, 3] + cl_lens[:, 3]\n",
    "cl_bb_tens_2048 = cl_tens[:, 3];"
   ]
  },
  {
   "cell_type": "code",
   "execution_count": 3,
   "id": "7d232fed-d7a8-416e-983a-27e20ffa402b",
   "metadata": {},
   "outputs": [],
   "source": [
    "nside = 4\n",
    "cl_ee_scal_4 = cl_scal[1:2nside+1, 2] + cl_lens[1:2nside+1, 2]\n",
    "cl_bb_scal_4 = cl_scal[1:2nside+1, 3] + cl_lens[1:2nside+1, 3]\n",
    "\n",
    "cl_ee_tens_4 = cl_tens[1:2nside+1, 2]\n",
    "cl_bb_tens_4 = cl_tens[1:2nside+1, 3];"
   ]
  },
  {
   "cell_type": "code",
   "execution_count": 4,
   "id": "ec0d177b-31ae-4018-a02f-3c4baa03154c",
   "metadata": {},
   "outputs": [],
   "source": [
    "#==\n",
    "# with only smoothin 先smoothingで次元のミスをなくす\n",
    "include(\"../../src/function/smoothing_cov_mat_calc.jl\")\n",
    "smoothing_cov_mat_scal = calc_cmb_cov_mat(cl_ee_scal_4, cl_bb_scal_4, nside);\n",
    "smoothing_cov_mat_tens = calc_cmb_cov_mat(cl_ee_tens_4, cl_bb_tens_4, nside);\n",
    "\n",
    "npzwrite(\"../smoothing_cov_mat_scal.npy\", smoothing_cov_mat_scal)\n",
    "npzwrite(\"../smoothing_cov_mat_tens.npy\", smoothing_cov_mat_tens)\n",
    "==#"
   ]
  },
  {
   "cell_type": "code",
   "execution_count": 4,
   "id": "434aa502-de4d-454e-a04d-ae1ac9ddbba1",
   "metadata": {},
   "outputs": [],
   "source": [
    "\n",
    "# without mask and smoothing\n",
    "\n",
    "# with only smoothin 先smoothingで次元のミスをなくす\n",
    "include(\"../../src/function/cov_mat_calc.jl\")\n",
    "\n",
    "cov_mat_scal = calc_cmb_cov_mat(cl_ee_scal_4, cl_bb_scal_4, nside);\n",
    "cov_mat_tens = calc_cmb_cov_mat(cl_ee_tens_4, cl_bb_tens_4, nside);\n",
    "\n",
    "npzwrite(\"../cov_mat_scal.npy\", cov_mat_scal)\n",
    "npzwrite(\"../cov_mat_tens.npy\", cov_mat_tens)\n"
   ]
  },
  {
   "cell_type": "code",
   "execution_count": 8,
   "id": "148e5f5b-b788-4654-b0f3-6c70df1facd8",
   "metadata": {},
   "outputs": [],
   "source": [
    "#npzread(\"../cov_mat_scal.npy\")"
   ]
  },
  {
   "cell_type": "code",
   "execution_count": 9,
   "id": "32c17613-1cf7-4e9c-9530-05c642abd3de",
   "metadata": {},
   "outputs": [],
   "source": [
    "#npzread(\"../smoothing_cov_mat_scal.npy\")"
   ]
  },
  {
   "cell_type": "code",
   "execution_count": null,
   "id": "d9a6ea54-63a8-411a-aab6-43271b826811",
   "metadata": {},
   "outputs": [],
   "source": []
  }
 ],
 "metadata": {
  "kernelspec": {
   "display_name": "Julia 1.10.4",
   "language": "julia",
   "name": "julia-1.10"
  },
  "language_info": {
   "file_extension": ".jl",
   "mimetype": "application/julia",
   "name": "julia",
   "version": "1.10.4"
  }
 },
 "nbformat": 4,
 "nbformat_minor": 5
}
