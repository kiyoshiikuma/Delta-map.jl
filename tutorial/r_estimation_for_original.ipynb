{
 "cells": [
  {
   "cell_type": "code",
   "execution_count": 31,
   "metadata": {},
   "outputs": [],
   "source": [
    "include(\"../src/function/original_delta_map.jl\")\n",
    "include(\"../src/function/r_estimate_original.jl\")\n",
    "include(\"../src/function/set_data_model.jl\")\n",
    "using PyCall\n",
    "using PyPlot\n",
    "# set parameters\n",
    "freq_bands = [40, 60, 140]\n",
    "freq_bands = [40, 60, 140, 235, 280, 337]\n",
    "cmb_freq = 140\n",
    "which_model = \"d1 and s1\"\n",
    "r_input = 0\n",
    "seed = 2\n",
    "nside = 4\n",
    "num_I = 2  \n",
    "cov_mat_scal = npzread(\"../covariance_matrix/smoothing_cov_mat_scal.npy\")\n",
    "cov_mat_tens = npzread(\"../covariance_matrix/smoothing_cov_mat_tens.npy\")\n",
    "mask_path = \"../mask_p06_Nside4.v2.fits\"\n",
    "mask = hp.read_map(mask_path);\n",
    "N⁻¹_set = Matrix{Float64}[]  \n",
    "Q_map = Vector{Vector{Float64}}()  \n",
    "U_map = Vector{Vector{Float64}}()  \n",
    "r_est = 0.\n",
    "\n",
    "# definite SetParams and FitParams struct\n",
    "set_params = SetParams(freq_bands, which_model, r_input, cmb_freq, seed, nside, cov_mat_scal, cov_mat_tens, mask, Q_map, U_map, N⁻¹_set)\n",
    "fit_params = FitParams(-3, 1.5, 20.1, r_est);"
   ]
  },
  {
   "cell_type": "code",
   "execution_count": 25,
   "metadata": {},
   "outputs": [],
   "source": [
    "make_input_map!(set_params);"
   ]
  },
  {
   "cell_type": "code",
   "execution_count": 26,
   "metadata": {},
   "outputs": [
    {
     "data": {
      "text/plain": [
       "(4.58429771712497e-6, 1.5729344729587835, -2.932652272934376, 18.624025932349905)"
      ]
     },
     "metadata": {},
     "output_type": "display_data"
    }
   ],
   "source": [
    "iterative_minimization(set_params, fit_params)"
   ]
  },
  {
   "cell_type": "code",
   "execution_count": 27,
   "metadata": {},
   "outputs": [
    {
     "name": "stdout",
     "output_type": "stream",
     "text": [
      " 31.993944 seconds (2.11 M allocations: 29.228 GiB, 7.59% gc time)\n"
     ]
    }
   ],
   "source": [
    "num_seeds = 30\n",
    "@time r_dis, beta_d, beta_s, T_d = estimate_r_distribution(set_params, fit_params, num_seeds);"
   ]
  },
  {
   "cell_type": "code",
   "execution_count": 28,
   "metadata": {},
   "outputs": [],
   "source": [
    "figure(figsize=(8, 6))\n",
    "hist(r_dis, bins=15, alpha=0.2, color=\"blue\", histtype=\"stepfilled\")\n",
    "hist(r_dis, bins = 15, alpha = 1., edgecolor = \"blue\", label = \"Delta-map only : 2 ≤ℓ≤ 8\", histtype = \"step\", linewidth = 3)\n",
    "axvline(x = r_input, color = \"red\", linestyle = \"--\")\n",
    "xlabel(L\"$r$\", fontsize=20)\n",
    "ylabel(L\"$r\\quad$distribution\", fontsize=20)  # ここを修正しました\n",
    "plt.grid(true)\n",
    "legend(loc=\"upper left\", bbox_to_anchor=(1.02, 1), borderaxespad=0., fontsize=\"18\")\n",
    "tight_layout()\n",
    "subplots_adjust(right=0.8)\n",
    "show()"
   ]
  },
  {
   "cell_type": "code",
   "execution_count": 29,
   "metadata": {},
   "outputs": [
    {
     "data": {
      "text/plain": [
       "2.702867390481287e-5"
      ]
     },
     "metadata": {},
     "output_type": "display_data"
    }
   ],
   "source": [
    "mean(r_dis)"
   ]
  },
  {
   "cell_type": "code",
   "execution_count": 30,
   "metadata": {},
   "outputs": [
    {
     "data": {
      "text/plain": [
       "-2.9242263860845394"
      ]
     },
     "metadata": {},
     "output_type": "display_data"
    }
   ],
   "source": [
    "mean(beta_s)"
   ]
  },
  {
   "cell_type": "code",
   "execution_count": null,
   "metadata": {},
   "outputs": [],
   "source": []
  }
 ],
 "metadata": {
  "kernelspec": {
   "display_name": "Julia 1.10.4",
   "language": "julia",
   "name": "julia-1.10"
  },
  "language_info": {
   "file_extension": ".jl",
   "mimetype": "application/julia",
   "name": "julia",
   "version": "1.10.4"
  }
 },
 "nbformat": 4,
 "nbformat_minor": 4
}
