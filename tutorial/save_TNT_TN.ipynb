{
 "cells": [
  {
   "cell_type": "markdown",
   "id": "92f3c363",
   "metadata": {},
   "source": [
    "### r estimation using"
   ]
  },
  {
   "cell_type": "code",
   "execution_count": 7,
   "id": "d01e9bd4",
   "metadata": {},
   "outputs": [],
   "source": [
    "using NPZ\n",
    "using PyPlot, Statistics, Distributions\n",
    "using BenchmarkTools\n",
    "include(\"../../src/function/save_TNT_TN.jl\")\n",
    "#include(\"../../covariance_matrix/code/smoothing_cov_mat_calc_truncate_qu.jl\")\n",
    "# calculate covariance matrix\n",
    "nside = 4\n",
    "lmin = 2\n",
    "lmax = 2nside\n",
    "#lmax = 8\n",
    "sphenical_harmonics = set_sphenical_harmonics_terms!()\n",
    "\n",
    "#==\n",
    "cl_2048 = npzread(\"/Users/ikumakiyoshi/Library/Mobile Documents/com~apple~CloudDocs/study_fg_rm/program/julia_Delta_map/covariance_matrix/code/cl_th_nside_2048.npz\")\n",
    "cl_scal = cl_2048[\"cls_th\"]\n",
    "cl_lens = cl_2048[\"clL_th\"]\n",
    "cl_tens = cl_2048[\"clt_th\"];\n",
    "\n",
    "cl_ee_scal = cl_scal[:, 2] + cl_lens[:, 2]\n",
    "cl_ee_tens = cl_tens[:, 2]\n",
    "cl_bb_scal = cl_scal[:, 3] + cl_lens[:, 3]\n",
    "cl_bb_tens = cl_tens[:, 3];\n",
    "==#\n",
    "\n",
    "#cov_mat_scal = calc_cmb_cov_mat(cl_ee_scal, cl_bb_scal, nside, lmin, lmax, sphenical_harmonics)\n",
    "#cov_mat_tens = calc_cmb_cov_mat(cl_ee_tens, cl_bb_tens, nside, lmin, lmax, sphenical_harmonics)\n",
    "#cov_mat_scal = npzread(\"../../covariance_matrix/smoothing_cov_mat_scal_nside_$(nside)_lmin_$(lmin)_lmax_$(lmax).npy\")\n",
    "#cov_mat_tens = npzread(\"../../covariance_matrix/smoothing_cov_mat_tens_nside_$(nside)_lmin_$(lmin)_lmax_$(lmax).npy\")\n",
    "#cov_mat_scal = npzread(\"../../covariance_matrix/smoothing_cov_mat_scal_nside_$(nside)_lmin_$(lmin)_lmax_$(lmax)_40GHz_beam.npy\")\n",
    "#cov_mat_tens = npzread(\"../../covariance_matrix/smoothing_cov_mat_tens_nside_$(nside)_lmin_$(lmin)_lmax_$(lmax)_40GHz_beam.npy\")\n",
    "#cov_mat_scal = npzread(\"../../covariance_matrix/smoothing_cov_mat_scal_nside_$(nside)_lmin_$(lmin)_lmax_$(lmax)_40GHz_beam_wo_wl.npy\")\n",
    "#cov_mat_tens = npzread(\"../../covariance_matrix/smoothing_cov_mat_tens_nside_$(nside)_lmin_$(lmin)_lmax_$(lmax)_40GHz_beam_wo_wl.npy\")\n",
    "#cov_mat_scal = npzread(\"../../covariance_matrix/smoothing_cov_mat_scal_nside_$(nside)_lmin_$(lmin)_lmax_$(lmax)_pixsize25_beam.npy\")\n",
    "#cov_mat_tens = npzread(\"../../covariance_matrix/smoothing_cov_mat_tens_nside_$(nside)_lmin_$(lmin)_lmax_$(lmax)_pixsize25_beam.npy\")\n",
    "#cov_mat_scal = npzread(\"../../covariance_matrix/paper_smoothing_cov_mat_scal_nside_$(nside)_lmin_$(lmin)_lmax_$(lmax)_pixsize25_beam_wo_wl.npy\")\n",
    "#cov_mat_tens = npzread(\"../../covariance_matrix/paper_smoothing_cov_mat_tens_nside_$(nside)_lmin_$(lmin)_lmax_$(lmax)_pixsize25_beam_wo_wl.npy\")\n",
    "cov_mat_scal = npzread(\"../../covariance_matrix/paper_smoothing_cov_mat_scal_nside_$(nside)_lmin_$(lmin)_lmax_$(lmax)_wo_beam_wo_wl.npy\")\n",
    "cov_mat_tens = npzread(\"../../covariance_matrix/paper_smoothing_cov_mat_tens_nside_$(nside)_lmin_$(lmin)_lmax_$(lmax)_wo_beam_wo_wl.npy\")\n",
    "\n",
    "# set parameters\n",
    "#freq_bands = [40, 60, 140]\n",
    "#freq_bands = [40, 50, 60, 68, 78, 89, 100, 119, 140]\n",
    "#freq_bands = [140, 235, 280, 402]\n",
    "#freq_bands = [100, 119, 140, 166, 195, 235, 280, 337, 402];\n",
    "#freq_bands = [40, 60, 140, 235, 280, 337]\n",
    "freq_bands = [40, 50, 60, 68, 78, 89, 100, 119, 140, 166, 195, 235, 280, 337, 402];\n",
    "which_model = \"d1 and s1\"\n",
    "r_input = 0.01\n",
    "seed = 101\n",
    "num_I = 2  \n",
    "spin = 2 # spin-2 for Q, U map\n",
    "lmax_alm = lmax\n",
    "\n",
    "WX_data = npzread(\"../../WX_matrix/WXmat_spin_$(spin)_nside_$(nside)_lmax_$(lmax_alm).npz\")\n",
    "\n",
    "Wmat = WX_data[\"Wmat\"]\n",
    "Xmat = WX_data[\"Xmat\"];\n",
    "\n",
    "mask_path = \"../../P06_nside_$nside.fits\"\n",
    "mask = hp.read_map(mask_path);\n",
    "N⁻¹_set = Matrix{Float64}[]  \n",
    "TᵀN⁻¹_set = Matrix{ComplexF64}[]  \n",
    "TᵀN⁻¹T_set = Matrix{ComplexF64}[]  \n",
    "m_set = Vector{Float64}[]  \n",
    "r_est = 0.5\n",
    "\n",
    "# definite SetParams and FitParams struct\n",
    "set_params = SetParams(freq_bands, which_model, r_input, seed, nside, num_I, cov_mat_scal, cov_mat_tens, mask, m_set, N⁻¹_set, TᵀN⁻¹_set, TᵀN⁻¹T_set, spin, lmax_alm);\n",
    "fit_params = FitParams(-3, 1.5, 20.1, r_est);\n",
    "set_T0_matrix(set_params, sphenical_harmonics, Wmat, Xmat, mask_path);"
   ]
  },
  {
   "cell_type": "code",
   "execution_count": 8,
   "id": "62b3ab89",
   "metadata": {},
   "outputs": [],
   "source": [
    "sphenical_harmonics.T0;"
   ]
  },
  {
   "cell_type": "code",
   "execution_count": 9,
   "id": "8bdcbf9d",
   "metadata": {},
   "outputs": [],
   "source": [
    "#cov_mat_tens - cov_mat_tens_new"
   ]
  },
  {
   "cell_type": "code",
   "execution_count": 10,
   "id": "f038c57b",
   "metadata": {},
   "outputs": [
    {
     "data": {
      "text/plain": [
       "(192, 77)"
      ]
     },
     "execution_count": 10,
     "metadata": {},
     "output_type": "execute_result"
    }
   ],
   "source": [
    "size(Wmat)"
   ]
  },
  {
   "cell_type": "code",
   "execution_count": 11,
   "id": "a9458a74",
   "metadata": {},
   "outputs": [
    {
     "data": {
      "text/plain": [
       "214×214 Matrix{Float64}:\n",
       "       5.9664e6         1.87342e6  …    73182.6             -1.38243e5\n",
       "       1.87342e6        7.47813e6          -1.53594e5        1.18095e5\n",
       "   66877.9              4.56383e6          -2.41016e5   -60118.0\n",
       "       3.09867e6        1.04853e6      -84277.0          68737.7\n",
       "      -4.45384e6       -5.31759e5          -2.46744e5        2.64025e5\n",
       "      -4.3678e5        -3.64858e6  …       -2.1548e5        -1.29764e5\n",
       "      -2.33893e5       -1.65656e6          -3.04245e5       -1.19469e5\n",
       "       4.09687e5       -1.46541e5          -1.65821e5    -8472.85\n",
       "       7.25485e5       -1.24593e6           4.29782e5        2.43753e5\n",
       "       1.5104e6        -4.46412e5       33868.1              2.253e5\n",
       "      -4.40222e5        6.82782e5  …        3.40406e5  -214357.0\n",
       "       3.5061e5         2.0836e6      -352568.0         -24823.1\n",
       "      -1.10005e5   449287.0             51669.9              4.7403e5\n",
       "       ⋮                           ⋱                   \n",
       "   65120.7              3.06427e5           7.54073e5        3.78853e5\n",
       "  -33726.8          -4754.7                 8.84246e5       -1.09734e6\n",
       " -281937.0             -5.61282e5          -9.9209e5         6.90526e5\n",
       "       2.40391e5        1.78462e5  …       -1.7399e5         5.44155e5\n",
       "   70022.8              4.03259e5          -2.75741e6       -1.00121e6\n",
       "   20164.1              3.55568e5          -3.2749e6         4.46454e5\n",
       "      -3.35722e5  -222186.0             -6038.06            -3.35841e6\n",
       "      -2.55771e5        2.40665e5          -1.27613e6       -3.07833e6\n",
       " -494325.0             -2.42419e5  …  -605440.0              3.79081e6\n",
       "       3.25825e5        3.26248e5           4.00683e6       -1.73218e5\n",
       "   73182.6             -1.53594e5           8.79449e6        3.21573e6\n",
       "      -1.38243e5        1.18095e5           3.21573e6        9.16948e6"
      ]
     },
     "execution_count": 11,
     "metadata": {},
     "output_type": "execute_result"
    }
   ],
   "source": [
    "set_truncate_N⁻¹!(set_params, lmin, lmax)[1]"
   ]
  },
  {
   "cell_type": "code",
   "execution_count": 12,
   "id": "8210f022",
   "metadata": {},
   "outputs": [],
   "source": [
    "# save TᵀN⁻¹T\n",
    "calc_TᵀN⁻¹T_terms(set_params::SetParams, mask_path, nside, lmin, lmax_alm)"
   ]
  },
  {
   "cell_type": "code",
   "execution_count": 43,
   "id": "dbf49067",
   "metadata": {},
   "outputs": [
    {
     "data": {
      "text/plain": [
       "1099.35565178157"
      ]
     },
     "execution_count": 43,
     "metadata": {},
     "output_type": "execute_result"
    }
   ],
   "source": [
    "using Healpix\n",
    "\n",
    "function fwhm_pix_arcmin(nside::Int)\n",
    "    θ_pix_rad = hp.nside2resol(nside)              \n",
    "    return θ_pix_rad * 180 / π * 60                \n",
    "end\n",
    "\n",
    "delta = fwhm_pix_arcmin(nside) * 2.5"
   ]
  },
  {
   "cell_type": "code",
   "execution_count": null,
   "id": "43a7ba7a",
   "metadata": {},
   "outputs": [],
   "source": []
  }
 ],
 "metadata": {
  "kernelspec": {
   "display_name": "Julia 1.11.4",
   "language": "julia",
   "name": "julia-1.11"
  },
  "language_info": {
   "file_extension": ".jl",
   "mimetype": "application/julia",
   "name": "julia",
   "version": "1.11.4"
  }
 },
 "nbformat": 4,
 "nbformat_minor": 5
}
