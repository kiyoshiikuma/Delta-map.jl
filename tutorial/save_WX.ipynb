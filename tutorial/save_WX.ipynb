{
 "cells": [
  {
   "cell_type": "markdown",
   "metadata": {},
   "source": [
    "### Calc WX matrix w/ bl"
   ]
  },
  {
   "cell_type": "code",
   "execution_count": 26,
   "metadata": {},
   "outputs": [
    {
     "data": {
      "text/plain": [
       "save_WXmat_spin (generic function with 1 method)"
      ]
     },
     "execution_count": 26,
     "metadata": {},
     "output_type": "execute_result"
    }
   ],
   "source": [
    "include(\"../../src/function/save_WX.jl\")"
   ]
  },
  {
   "cell_type": "code",
   "execution_count": 22,
   "metadata": {},
   "outputs": [
    {
     "name": "stdout",
     "output_type": "stream",
     "text": [
      "../../WX_matrix/WXmat_spin_2_nside_4_lmax_8_fwhm_2198p7arcmin.npz\n"
     ]
    }
   ],
   "source": [
    "nside = 4\n",
    "lmax  = 2nside\n",
    "#lmax  = 8\n",
    "outpath = save_WXmat_spin(nside, lmax; outdir=\"../../WX_matrix\")  # FWHM=pixel×2.5\n",
    "println(outpath)"
   ]
  },
  {
   "cell_type": "code",
   "execution_count": 27,
   "metadata": {},
   "outputs": [
    {
     "name": "stdout",
     "output_type": "stream",
     "text": [
      "../../WX_matrix/WXmat_spin_2_nside_4_lmax_8_fwhm_0p0arcmin.npz\n"
     ]
    }
   ],
   "source": [
    "nside = 4\n",
    "lmax  = 2nside\n",
    "#lmax  = 8\n",
    "outpath = save_WXmat_spin(nside, lmax; outdir=\"../../WX_matrix\", fwhm_pix_multiple=0.)  # FWHM=pixel×2.5\n",
    "println(outpath)"
   ]
  },
  {
   "cell_type": "code",
   "execution_count": 23,
   "metadata": {},
   "outputs": [],
   "source": [
    "# fwhm_arcmin = 1100.0\n",
    "# fwhm_rad    = fwhm_arcmin * (pi/10800)\n",
    "# outpath2 = save_WXmat_spin(8, 8; outdir=\"../../WX_matrix\", fwhm_rad=fwhm_rad)\n",
    "# println(outpath2)"
   ]
  },
  {
   "cell_type": "markdown",
   "metadata": {},
   "source": [
    "### Test compare the old WX and new"
   ]
  },
  {
   "cell_type": "code",
   "execution_count": 28,
   "metadata": {},
   "outputs": [],
   "source": [
    "WX_data_new_old = npzread(\"../../WX_matrix/WXmat_spin_2_nside_4_lmax_8.npz\")\n",
    "WX_data_new = npzread(\"../../WX_matrix/WXmat_spin_2_nside_4_lmax_8_fwhm_0p0arcmin.npz\")\n",
    "\n",
    "Wmat_old = WX_data_new_old[\"Wmat\"]\n",
    "Xmat_old = WX_data_new_old[\"Xmat\"];\n",
    "Wmat_new = WX_data_new[\"Wmat\"]\n",
    "Xmat_new = WX_data_new[\"Xmat\"];"
   ]
  },
  {
   "cell_type": "code",
   "execution_count": 30,
   "metadata": {},
   "outputs": [
    {
     "name": "stdout",
     "output_type": "stream",
     "text": [
      "Max abs diff Wmat: 0.0\n",
      "Max abs diff Xmat: 0.0\n"
     ]
    }
   ],
   "source": [
    "println(\"Max abs diff Wmat: \", maximum(abs.(Wmat_old .- Wmat_new)))\n",
    "println(\"Max abs diff Xmat: \", maximum(abs.(Xmat_old .- Xmat_new)))"
   ]
  },
  {
   "cell_type": "code",
   "execution_count": null,
   "metadata": {},
   "outputs": [],
   "source": []
  }
 ],
 "metadata": {
  "kernelspec": {
   "display_name": "Julia 1.11.4",
   "language": "julia",
   "name": "julia-1.11"
  },
  "language_info": {
   "file_extension": ".jl",
   "mimetype": "application/julia",
   "name": "julia",
   "version": "1.11.4"
  }
 },
 "nbformat": 4,
 "nbformat_minor": 2
}
